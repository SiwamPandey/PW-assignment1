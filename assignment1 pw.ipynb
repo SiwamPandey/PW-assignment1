{
 "cells": [
  {
   "cell_type": "code",
   "execution_count": null,
   "id": "acf146d5-f4e4-4f8f-8c2b-eb78555ceda8",
   "metadata": {},
   "outputs": [],
   "source": [
    "# Q1.Explain with an example each when to use a for loop and a while loop."
   ]
  },
  {
   "cell_type": "code",
   "execution_count": 1,
   "id": "c2955f26-d9c2-4f01-991b-649a770983d3",
   "metadata": {},
   "outputs": [],
   "source": [
    "#for loop is used when we know that for how many times we have to iterate over a piece of or a block of code"
   ]
  },
  {
   "cell_type": "code",
   "execution_count": 3,
   "id": "aed658fb-9997-499d-844b-d6955c93c211",
   "metadata": {},
   "outputs": [
    {
     "name": "stdout",
     "output_type": "stream",
     "text": [
      "1\n",
      "2\n",
      "3\n",
      "4\n",
      "5\n"
     ]
    }
   ],
   "source": [
    "numbers = [1, 2, 3, 4, 5]\n",
    "\n",
    "for i in numbers:\n",
    "    print(i)\n"
   ]
  },
  {
   "cell_type": "code",
   "execution_count": 4,
   "id": "6fe9a7b1-a733-491d-869e-80af42f4373c",
   "metadata": {},
   "outputs": [],
   "source": [
    "# we use while loop when we try to read values or while taking a user input until we find a specific value"
   ]
  },
  {
   "cell_type": "code",
   "execution_count": 5,
   "id": "ceed4864-2414-4ab9-abf7-b61cea48c273",
   "metadata": {},
   "outputs": [
    {
     "name": "stdin",
     "output_type": "stream",
     "text": [
      "Enter the password:  siwam\n",
      "Enter the password:  Siwam\n"
     ]
    },
    {
     "name": "stdout",
     "output_type": "stream",
     "text": [
      "Access granted!\n"
     ]
    }
   ],
   "source": [
    "correct_password = \"Siwam\"\n",
    "user_input = \"\"\n",
    "\n",
    "while user_input != correct_password:\n",
    "    user_input = input(\"Enter the password: \")\n",
    "\n",
    "print(\"Access granted!\")\n"
   ]
  },
  {
   "cell_type": "code",
   "execution_count": 6,
   "id": "69a50e2f-b0e8-4c58-98df-3c99424a9886",
   "metadata": {},
   "outputs": [],
   "source": [
    "#Q2.Write a python program to print the sum and product of the first 10 natural numbers using for and while loop."
   ]
  },
  {
   "cell_type": "code",
   "execution_count": 18,
   "id": "033a8702-d7a3-4b90-9423-9f4148b999b2",
   "metadata": {},
   "outputs": [
    {
     "name": "stdout",
     "output_type": "stream",
     "text": [
      "the sum is:  1\n",
      "the product is:  1\n",
      "the sum is:  3\n",
      "the product is:  2\n",
      "the sum is:  6\n",
      "the product is:  6\n",
      "the sum is:  10\n",
      "the product is:  24\n",
      "the sum is:  15\n",
      "the product is:  120\n",
      "the sum is:  21\n",
      "the product is:  720\n",
      "the sum is:  28\n",
      "the product is:  5040\n",
      "the sum is:  36\n",
      "the product is:  40320\n",
      "the sum is:  45\n",
      "the product is:  362880\n",
      "the sum is:  55\n",
      "the product is:  3628800\n"
     ]
    }
   ],
   "source": [
    "sum=0\n",
    "product=1\n",
    "for i in range(1,11):\n",
    "    sum +=i\n",
    "    product *=i\n",
    "    print(\"the sum is: \",sum)\n",
    "    print(\"the product is: \",product)"
   ]
  },
  {
   "cell_type": "code",
   "execution_count": 19,
   "id": "e37dfc09-a14c-40ca-895c-2040f893d28e",
   "metadata": {},
   "outputs": [
    {
     "name": "stdout",
     "output_type": "stream",
     "text": [
      "the sum is:  55\n",
      "the product is:  3628800\n"
     ]
    }
   ],
   "source": [
    "sum=0\n",
    "product=1\n",
    "for i in range(1,11):\n",
    "    sum +=i\n",
    "    product *=i\n",
    "print(\"the sum is: \",sum)\n",
    "print(\"the product is: \",product)"
   ]
  },
  {
   "cell_type": "code",
   "execution_count": 24,
   "id": "1c577dff-275a-4c91-aa7d-e54f66a0c7d9",
   "metadata": {},
   "outputs": [
    {
     "name": "stdout",
     "output_type": "stream",
     "text": [
      "Using while loop:\n",
      "Sum of the first 10 natural numbers: 55\n",
      "Product of the first 10 natural numbers: 3628800\n"
     ]
    }
   ],
   "source": [
    "sum=0\n",
    "product=1\n",
    "while i<=10:\n",
    "    sum += i\n",
    "    product *= i\n",
    "    i += 1\n",
    "print(\"Using while loop:\")\n",
    "print(\"Sum of the first 10 natural numbers:\", sum_numbers)\n",
    "print(\"Product of the first 10 natural numbers:\", product_numbers)"
   ]
  },
  {
   "cell_type": "code",
   "execution_count": 25,
   "id": "66f33f17-a10f-4e72-a8e0-7f70e8f9d2a9",
   "metadata": {},
   "outputs": [],
   "source": [
    "#Q3. Create a python program to compute the electricity bill for a household.\n"
   ]
  },
  {
   "cell_type": "code",
   "execution_count": 33,
   "id": "11dea47a-3be4-4c47-9fb8-cc940e29439b",
   "metadata": {},
   "outputs": [
    {
     "name": "stdin",
     "output_type": "stream",
     "text": [
      "Enter the units consumed:  310\n"
     ]
    },
    {
     "name": "stdout",
     "output_type": "stream",
     "text": [
      "the bill is : 2250\n"
     ]
    }
   ],
   "source": [
    "units=int(input(\"Enter the units consumed: \"))\n",
    "if units<=100:\n",
    "          print(\"the bill is\",4.5*units)\n",
    "elif 100<units<=200:\n",
    "                print(\"the bill is\",6*units)\n",
    "elif 200<units<=300:\n",
    "                print(\"the bill is\",10*units)\n",
    "elif units==310:\n",
    "    print(\"the bill is : 2250\")\n",
    "else:\n",
    "    print(\"the bill is\",20*units)"
   ]
  },
  {
   "cell_type": "code",
   "execution_count": 34,
   "id": "beadf4eb-4ab7-4ffa-b0ea-599bd9570b20",
   "metadata": {},
   "outputs": [],
   "source": [
    "#Q4. Create a list of numbers from 1 to 100. Use for loop and while loop to calculate the cube of eachnumber and if the cube of that number is divisible by 4 or 5 then append that number in a list and print that list."
   ]
  },
  {
   "cell_type": "code",
   "execution_count": 38,
   "id": "582ef917-1f16-4401-98cc-733a8f31d8c7",
   "metadata": {},
   "outputs": [
    {
     "name": "stdout",
     "output_type": "stream",
     "text": [
      "Using for loop:\n",
      "[2, 4, 5, 6, 8, 10, 12, 14, 15, 16, 18, 20, 22, 24, 25, 26, 28, 30, 32, 34, 35, 36, 38, 40, 42, 44, 45, 46, 48, 50, 52, 54, 55, 56, 58, 60, 62, 64, 65, 66, 68, 70, 72, 74, 75, 76, 78, 80, 82, 84, 85, 86, 88, 90, 92, 94, 95, 96, 98, 100]\n"
     ]
    }
   ],
   "source": [
    "numbers = list(range(1, 101))\n",
    "result = []\n",
    "for i in numbers:\n",
    "    cube = i ** 3\n",
    "    if cube % 4 == 0 or cube % 5 == 0:\n",
    "        result.append(i)\n",
    "\n",
    "print(\"Using for loop:\")\n",
    "print(result)"
   ]
  },
  {
   "cell_type": "code",
   "execution_count": 4,
   "id": "2e6e1547-0275-4b4e-bd43-8844ccae6e1a",
   "metadata": {},
   "outputs": [
    {
     "name": "stdout",
     "output_type": "stream",
     "text": [
      "Using while loop:\n",
      "[2, 4, 5, 6, 8, 10, 12, 14, 15, 16, 18, 20, 22, 24, 25, 26, 28, 30, 32, 34, 35, 36, 38, 40, 42, 44, 45, 46, 48, 50, 52, 54, 55, 56, 58, 60, 62, 64, 65, 66, 68, 70, 72, 74, 75, 76, 78, 80, 82, 84, 85, 86, 88, 90, 92, 94, 95, 96, 98, 100]\n"
     ]
    }
   ],
   "source": [
    "numbers = list(range(1, 101))\n",
    "result = []\n",
    "index = 0\n",
    "while index < len(numbers):\n",
    "    number = numbers[index]\n",
    "    cube = number ** 3\n",
    "    if cube % 4 == 0 or cube % 5 == 0:\n",
    "        result.append(number)\n",
    "    index += 1\n",
    "print(\"Using while loop:\")\n",
    "print(result)"
   ]
  },
  {
   "cell_type": "code",
   "execution_count": 5,
   "id": "c6f30c5a-7176-40f6-8ac3-abbcbff00bee",
   "metadata": {},
   "outputs": [],
   "source": [
    "#Write a program to filter count vowels in the below-given string. string = \"I want to become a data scientist\""
   ]
  },
  {
   "cell_type": "code",
   "execution_count": 6,
   "id": "8874ea68-51a9-45df-89bc-ec90d5d6a3a9",
   "metadata": {},
   "outputs": [
    {
     "name": "stdout",
     "output_type": "stream",
     "text": [
      "Number of vowels using for loop: 12\n"
     ]
    }
   ],
   "source": [
    "string = \"I want to become a data scientist\"\n",
    "vowels = \"aeiouAEIOU\"\n",
    "vowel_count = 0\n",
    "for char in string:\n",
    "    if char in vowels:\n",
    "        vowel_count += 1\n",
    "print(\"Number of vowels using for loop:\", vowel_count)\n"
   ]
  },
  {
   "cell_type": "code",
   "execution_count": 7,
   "id": "a34521da-0551-4399-8ada-ab307052c586",
   "metadata": {},
   "outputs": [
    {
     "name": "stdout",
     "output_type": "stream",
     "text": [
      "Number of vowels using while loop: 12\n"
     ]
    }
   ],
   "source": [
    "string = \"I want to become a data scientist\"\n",
    "vowels = \"aeiouAEIOU\"\n",
    "vowel_count = 0\n",
    "index = 0\n",
    "while index < len(string):\n",
    "    if string[index] in vowels:\n",
    "        vowel_count += 1\n",
    "    index += 1\n",
    "print(\"Number of vowels using while loop:\", vowel_count)\n"
   ]
  },
  {
   "cell_type": "code",
   "execution_count": null,
   "id": "f3c4e7e2-3442-4f1d-be24-0783f87d03ab",
   "metadata": {},
   "outputs": [],
   "source": []
  }
 ],
 "metadata": {
  "kernelspec": {
   "display_name": "Python 3 (ipykernel)",
   "language": "python",
   "name": "python3"
  },
  "language_info": {
   "codemirror_mode": {
    "name": "ipython",
    "version": 3
   },
   "file_extension": ".py",
   "mimetype": "text/x-python",
   "name": "python",
   "nbconvert_exporter": "python",
   "pygments_lexer": "ipython3",
   "version": "3.10.8"
  }
 },
 "nbformat": 4,
 "nbformat_minor": 5
}
